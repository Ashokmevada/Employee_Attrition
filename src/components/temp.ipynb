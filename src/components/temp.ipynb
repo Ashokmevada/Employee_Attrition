{
 "cells": [
  {
   "cell_type": "code",
   "execution_count": 1,
   "metadata": {},
   "outputs": [
    {
     "ename": "SyntaxError",
     "evalue": "expected ':' (290853088.py, line 6)",
     "output_type": "error",
     "traceback": [
      "\u001b[1;36m  Cell \u001b[1;32mIn[1], line 6\u001b[1;36m\u001b[0m\n\u001b[1;33m    else if (n==2):\u001b[0m\n\u001b[1;37m         ^\u001b[0m\n\u001b[1;31mSyntaxError\u001b[0m\u001b[1;31m:\u001b[0m expected ':'\n"
     ]
    }
   ],
   "source": [
    "class Solution:\n",
    "    def countAndSay(self, n: int) -> str:\n",
    "\n",
    "        if n == 1:\n",
    "            return \"1\"\n",
    "        else if (n==2):\n",
    "\n",
    "            return \"11\"\n",
    "        else if (n==3):\n",
    "\n",
    "            return \"21\"\n",
    "        \n",
    "        s = countAndSay(n-1)\n",
    "        \n",
    "        container = None\n",
    "        count = 0\n",
    "        result = \"\"\n",
    "        for i in range(len(s)-1):\n",
    "\n",
    "            if (s[i] != container):\n",
    "                count = 1\n",
    "                if i != 0:\n",
    "                    result += (str(count) + s[i])\n",
    "                container = s[i]\n",
    "            else :\n",
    "                count += 1\n",
    "\n",
    "        return result\n",
    "                \n",
    "\n",
    "\n",
    "        "
   ]
  },
  {
   "cell_type": "code",
   "execution_count": 8,
   "metadata": {},
   "outputs": [
    {
     "name": "stdout",
     "output_type": "stream",
     "text": [
      "aaaa\n",
      "aaa\n",
      "aa\n",
      "a\n",
      "\n"
     ]
    }
   ],
   "source": [
    "def check_palindrome(S):\n",
    "\n",
    "    flag = True\n",
    "    for i in range((int)(len(S)/2)):\n",
    "\n",
    "        if (S[i] != S[-1 - i]):\n",
    "            flag = False\n",
    "            break\n",
    "\n",
    "\n",
    "    return flag\n",
    "\n",
    "S = \"aaaabbaa\"\n",
    "    \n",
    "for i in range(len(S)-1 , -1 , -1):\n",
    "    \n",
    "    if(check_palindrome(S[0:i])):\n",
    "     print(S[0:i])\n",
    "     \n",
    "    else:\n",
    "        \n",
    "        for j in range(1 , len(S)-i):\n",
    "            if(check_palindrome((S[j:i+j]))):\n",
    "                print(S[j:i+j])\n",
    "                "
   ]
  },
  {
   "cell_type": "code",
   "execution_count": 3,
   "metadata": {},
   "outputs": [
    {
     "name": "stdout",
     "output_type": "stream",
     "text": [
      "7\n",
      "6\n",
      "5\n",
      "4\n",
      "3\n",
      "2\n",
      "1\n",
      "0\n"
     ]
    }
   ],
   "source": [
    "for i in range(len(S)-1 , -1 , -1):\n",
    "\n",
    "    s[i]\n"
   ]
  }
 ],
 "metadata": {
  "kernelspec": {
   "display_name": "Python 3",
   "language": "python",
   "name": "python3"
  },
  "language_info": {
   "codemirror_mode": {
    "name": "ipython",
    "version": 3
   },
   "file_extension": ".py",
   "mimetype": "text/x-python",
   "name": "python",
   "nbconvert_exporter": "python",
   "pygments_lexer": "ipython3",
   "version": "3.11.0"
  },
  "orig_nbformat": 4
 },
 "nbformat": 4,
 "nbformat_minor": 2
}
